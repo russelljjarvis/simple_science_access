{
 "cells": [
  {
   "cell_type": "markdown",
   "metadata": {},
   "source": [
    "# Markdown Cell Example \n",
    "markdown can be readibly interleaved and dispersed between code in notebooks \n",
    "## Explanation of code below\n",
    "The histogram (x-axis) binned readability score, (y-axis) counts of papers that occupy that readability score. \n",
    "\n",
    "The histogram is initially populated exclusively by the ART corpus, but the idea was every time a new author got scraped from scholar, it would be added in, such that with each persons new search our big picture of science readability would be better informed.\n",
    "\n",
    "So the histogram changes a little modestly perceptible amount with the author scrape, but three dots pertaining to the authors easiest read, hardest read, and mean read where added.\n",
    "\n",
    "These used to be ```[mean-standard dev, mean, mean+standard dev]``` but there was a flaw implementing that. It could just be that the plot looked way too busy around the mean, and it was harder to look at.\n",
    "\n",
    "There is an issue with getting the dots to appear in the centre of histogram bins. I was working under the assumption, that if I knew the ```[min,mean,max]```, readability scores for Rick Gerkin, I could add to them half the bin width, and dot's would be centred. That is almost correct. I forgot that these calculations are not performed on pre binned data, so the x-coordinates of ```[min,mean,max]``` need to be slightly shifted to the nearest histogram bin start first.\n",
    "\n",
    "Think of it as a bit like snapping something to a grid in photoshop."
   ]
  },
  {
   "cell_type": "markdown",
   "metadata": {},
   "source": [
    "It should be easy to hack this code to run off a local machine, using sudo.\n",
    "Set up the Environment. This is now done in requirements, and the postBuild script.\n",
    "```python\n",
    "!pip install matplotlib\n",
    "!pip install pandas\n",
    "!pip install seaborn\n",
    "\n",
    "if os.path.exists('traingDats.p?dl=0'):\n",
    "    pass\n",
    "\n",
    "else:\n",
    "    !wget https://www.dropbox.com/s/3h12l5y2pn49c80/traingDats.p?dl=0\n",
    "    !wget https://www.dropbox.com/s/crarli3772rf3lj/more_authors_results.p?dl=0\n",
    "    !wget https://www.dropbox.com/s/x66zf52himmp5ox/benchmarks.p?dl=0\n",
    "```"
   ]
  },
  {
   "cell_type": "code",
   "execution_count": 1,
   "metadata": {},
   "outputs": [
    {
     "name": "stdout",
     "output_type": "stream",
     "text": [
      "Requirement already satisfied: tabulate in /srv/conda/envs/notebook/lib/python3.7/site-packages (0.8.5)\r\n"
     ]
    }
   ],
   "source": [
    "!pip install tabulate\n",
    "import pickle\n",
    "try:\n",
    "    [rg,sc,gn,sb,all_authors] = pickle.load(open('competition_data.p?dl=0','rb'))\n",
    "\n",
    "except:\n",
    "    !wget https://www.dropbox.com/s/04nd2ww4vg4jzt6/competition_data.p?dl=0\n",
    "    [rg,sc,gn,sb,all_authors] = pickle.load(open('competition_data.p?dl=0','rb'))\n"
   ]
  },
  {
   "cell_type": "code",
   "execution_count": 2,
   "metadata": {},
   "outputs": [
    {
     "name": "stdout",
     "output_type": "stream",
     "text": [
      "the winner of the science clarity competition is:  (29.75, 'rick')\n",
      "[(29.75, 'rick'), (30.65, 'sharon'), (29.8, 'grayden')]\n",
      "29.75 30.65 29.8 15.727272727272727\n",
      "penalties: rick,scrook,grayden,bryan hen,emarder,markram\n"
     ]
    },
    {
     "data": {
      "text/html": [
       "<div>\n",
       "<style scoped>\n",
       "    .dataframe tbody tr th:only-of-type {\n",
       "        vertical-align: middle;\n",
       "    }\n",
       "\n",
       "    .dataframe tbody tr th {\n",
       "        vertical-align: top;\n",
       "    }\n",
       "\n",
       "    .dataframe thead th {\n",
       "        text-align: right;\n",
       "    }\n",
       "</style>\n",
       "<table border=\"1\" class=\"dataframe\">\n",
       "  <thead>\n",
       "    <tr style=\"text-align: right;\">\n",
       "      <th></th>\n",
       "      <th>R. Gerkin</th>\n",
       "      <th>S. Crook</th>\n",
       "      <th>D. Grayden</th>\n",
       "    </tr>\n",
       "  </thead>\n",
       "  <tbody>\n",
       "    <tr>\n",
       "      <td>0</td>\n",
       "      <td>29.75</td>\n",
       "      <td>NaN</td>\n",
       "      <td>NaN</td>\n",
       "    </tr>\n",
       "    <tr>\n",
       "      <td>1</td>\n",
       "      <td>NaN</td>\n",
       "      <td>30.65</td>\n",
       "      <td>NaN</td>\n",
       "    </tr>\n",
       "    <tr>\n",
       "      <td>2</td>\n",
       "      <td>NaN</td>\n",
       "      <td>NaN</td>\n",
       "      <td>29.8</td>\n",
       "    </tr>\n",
       "  </tbody>\n",
       "</table>\n",
       "</div>"
      ],
      "text/plain": [
       "   R. Gerkin  S. Crook  D. Grayden\n",
       "0      29.75       NaN         NaN\n",
       "1        NaN     30.65         NaN\n",
       "2        NaN       NaN        29.8"
      ]
     },
     "execution_count": 2,
     "metadata": {},
     "output_type": "execute_result"
    }
   ],
   "source": [
    "\n",
    "def metricss(rg):\n",
    "    if isinstance(rg,list):\n",
    "        pub_count = len(rg)\n",
    "        standard = np.mean([ r['standard'] for r in rg ])\n",
    "        return standard\n",
    "    else:\n",
    "        return None\n",
    "def metricsp(rg):\n",
    "    if isinstance(rg,list):\n",
    "        pub_count = len(rg)\n",
    "        penalty = np.mean([ r['penalty'] for r in rg ])\n",
    "        stds = np.std([ r['penalty'] for r in rg ])\n",
    "\n",
    "        #penalty = np.mean([ r['perplexity'] for r in rg ])\n",
    "\n",
    "        return stds\n",
    "    else:\n",
    "        return None\n",
    "\n",
    "def filter_empty(the_list):\n",
    "    the_list = [ tl for tl in the_list if tl is not None ]\n",
    "    return [ tl for tl in the_list if 'standard' in tl.keys() ]\n",
    "\n",
    "\n",
    "import pickle\n",
    "import copy\n",
    "import matplotlib as mpl\n",
    "import numpy as np\n",
    "import pandas as pd\n",
    "import matplotlib.pyplot as plt\n",
    "import seaborn as sns\n",
    "import os\n",
    "import plotly as py\n",
    "\n",
    "rick = metricss(rg)\n",
    "scrook = metricss(sc)\n",
    "grayden = metricss(gn)\n",
    "#bhenderson = metricss(bh)\n",
    "#emarder = metricss(em)\n",
    "#markram = metricss(mk)\n",
    "smbaer = metricss(sb)\n",
    "\n",
    "rank = [(rick,str('rick')),(scrook,str('sharon')),(grayden,str('grayden'))]\n",
    "print('the winner of the science clarity competition is: ', sorted(rank)[0])\n",
    "#pdb.set_trace()\n",
    "\n",
    "print(rank)\n",
    "print(rick,scrook,grayden,smbaer)\n",
    "ricks = metricsp(rg)\n",
    "scrooks = metricsp(sc)\n",
    "graydens = metricsp(gn)\n",
    "#smbaer = metricsp(sb)\n",
    "\n",
    "#emarder = metricsp(em)\n",
    "#markram = metricsp(mk)\n",
    "print('penalties: rick,scrook,grayden,bryan hen,emarder,markram')\n",
    "#print(rick,scrook,grayden,bhen,emarder,markram)\n",
    "\n",
    "# Some random data\n",
    "#data = np.random.rand(10,4)\n",
    "# Columns A, B, C, D\n",
    "#columns = [chr(x) for x in range(65,69)]\n",
    "# Create the dataframe\n",
    "data_m = [{\"R. Gerkin\":rick},{\"S. Crook\":scrook},{\"D. Grayden\":grayden}]#,{\"S. Baer\":smbaer}]\n",
    "data_s = [{\"R. Gerkin\":ricks},{\"S. Crook\":scrooks},{\"D. Grayden\":graydens}]#,{\"S. Baer\":smbaer}]\n",
    "\n",
    "df = pd.DataFrame(data_m)\n",
    "df.T\n",
    "#,columns=columns)\n",
    "# Optionally give the dataframe's index a name\n",
    "#df.index.name = \"my_index\"\n",
    "# Create the markdown string\n",
    "#md = tabulate(df, headers='keys', tablefmt='pipe')\n",
    "# Fix the markdown string; it will not render with an empty first table cell,\n",
    "# so if the dataframe's index has no name, just place an 'x' there.\n",
    "#md = md.replace('|    |','| %s |' % (df.index.name if df.index.name else 'x'))\n",
    "# Create the Markdown object\n",
    "#result = d.Markdown(md)\n",
    "# Display the markdown object (in a Jupyter code cell)\n",
    "#result\n",
    "df\n",
    "#smbaer"
   ]
  },
  {
   "cell_type": "code",
   "execution_count": 3,
   "metadata": {},
   "outputs": [],
   "source": [
    "try:\n",
    "    with open('scraped_new.p?dl=0','rb') as f:\n",
    "        texts = pickle.load(f) \n",
    "except:\n",
    "    !wget https://www.dropbox.com/s/1kc7alp79h701hx/scraped_new.p?dl=0\n",
    "    with open('scraped_new.p?dl=0','rb') as f:\n",
    "        texts = pickle.load(f) \n",
    "\n",
    "queries = set([t['query'] for t in texts ])\n",
    "temp = [t for t in texts if 'standard' in t.keys() and 'wikipedia' in t['link']]\n",
    "science = ['cancer','Vaccines','evolution','climate change','Transgenic','photosysnthesis','evolution','GMO']\n",
    "res = [t['standard'] for t in temp if t['query'] in science]\n",
    "#res = [t['standard'] for t in temp]# if t['query'] in science]\n",
    "\n",
    "mwp = np.mean(res)  \n",
    "abstract_wiki = {'standard':mwp}"
   ]
  },
  {
   "cell_type": "code",
   "execution_count": 4,
   "metadata": {},
   "outputs": [],
   "source": [
    "\n",
    "with open('traingDats.p?dl=0','rb') as f:\n",
    "        trainingDats = pickle.load(f) \n",
    "\n",
    "bmark = pickle.load(open('benchmarks.p?dl=0','rb'))\n",
    "#bmark.append(abstract_wiki)\n",
    "NAME,ar = pickle.load(open('more_authors_results.p?dl=0','rb'))\n",
    "NAME = NAME[0]\n",
    "trainingDats.extend(bmark)"
   ]
  },
  {
   "cell_type": "code",
   "execution_count": null,
   "metadata": {},
   "outputs": [],
   "source": []
  },
  {
   "cell_type": "code",
   "execution_count": 5,
   "metadata": {},
   "outputs": [],
   "source": [
    "\n",
    "def get_heights(stats_items,histogram_content,x_sub_set):\n",
    "    vertical_postions_indexs = []\n",
    "    for i in stats_items:\n",
    "        vertical_postions_indexs.append(find_nearest(histogram_content, i))\n",
    "    bin_width_offset = (xys[1][0] - xys[0][0])/2.0\n",
    "    x_sub_set = [ i+bin_width_offset for i in x_sub_set ]\n",
    "\n",
    "\n",
    "    heights = []\n",
    "    for i in vertical_postions_indexs:\n",
    "        heights.append(xys[i][1])\n",
    "    return heights, bin_width_offset\n",
    "\n",
    "\n",
    "def find_nearest(array, value):\n",
    "    array = np.asarray(array)\n",
    "    idx = (np.abs(array - value)).argmin()\n",
    "    return idx\n",
    "\n",
    "def snap_to_grid(author_stats,bin_centers):\n",
    "    author_stats_grid = []\n",
    "    for as_ in author_stats:\n",
    "        as_ = find_nearest(bin_centers,as_)\n",
    "        author_stats_grid.append(bin_centers[as_])\n",
    "    return author_stats_grid\n"
   ]
  },
  {
   "cell_type": "code",
   "execution_count": 6,
   "metadata": {},
   "outputs": [],
   "source": [
    "max_ART = np.max([ t['standard'] for t in trainingDats ])\n",
    "publication = [ t['publication'] for t in trainingDats if t['standard'] == max_ART ]\n",
    "keys = [ t.keys() for t in trainingDats if t['standard'] == max_ART ]\n",
    "\n",
    "fname = [ t['file_name'] for t in trainingDats if t['standard'] == max_ART ]\n",
    "bmark_max_art = {'standard':max_ART}\n",
    "#max_ART\n",
    "trainingDats.extend(rg)\n",
    "trainingDats.extend(sc)\n",
    "trainingDats.extend(gn)"
   ]
  },
  {
   "cell_type": "code",
   "execution_count": 7,
   "metadata": {},
   "outputs": [
    {
     "data": {
      "text/plain": [
       "[6.739130434782608,\n",
       " 8.73913043478261,\n",
       " 14.73913043478261,\n",
       " 16.73913043478261,\n",
       " 8.73913043478261,\n",
       " 16.73913043478261]"
      ]
     },
     "execution_count": 7,
     "metadata": {},
     "output_type": "execute_result"
    },
    {
     "data": {
      "image/png": "[encoded data removed]",
      "text/plain": [
       "<Figure size 432x288 with 1 Axes>"
      ]
     },
     "metadata": {
      "needs_background": "light"
     },
     "output_type": "display_data"
    },
    {
     "data": {
      "image/png": "[encoded data removed]",
      "text/plain": [
       "<Figure size 800x640 with 1 Axes>"
      ]
     },
     "metadata": {
      "needs_background": "light"
     },
     "output_type": "display_data"
    }
   ],
   "source": [
    "\n",
    "\n",
    "standard_sci = [ t['standard'] for t in trainingDats ]\n",
    "ar = [ t for t in ar if type(t) is type({})]\n",
    "ar = [ t for t in ar if 'standard' in t.keys()]\n",
    "xys = [ (h.get_x(),h.get_height()) for h in sns.distplot(standard_sci).patches ]\n",
    "\n",
    "x_grid = [ h.get_x() for h in sns.distplot(standard_sci).patches ]\n",
    "offset = float((x_grid[1] - x_grid[0])/2.0)\n",
    "bin_centers = [gr+offset for gr in x_grid]\n",
    "# this plot not used yet.\n",
    "\n",
    "fig = plt.figure(figsize=(10, 8), dpi=80)\n",
    "ax1 = fig.add_subplot(111)#)\n",
    "mean_ = np.mean([a['standard'] for a in ar])\n",
    "min_ = np.min([a['standard'] for a in ar])\n",
    "max_ = np.max([a['standard'] for a in ar])\n",
    "std_ = np.std([a['standard'] for a in ar])\n",
    "stats_items = [mean_,min_,max_]\n",
    "\n",
    "g = sns.distplot(standard_sci, label=\"Readability Index\")\n",
    "\n",
    "\n",
    "histogram_content = [x[0] for x in xys]\n",
    "height_content = np.array([x[1] for x in xys])\n",
    "\n",
    "hc = np.array(histogram_content)\n",
    "\n",
    "x_sub_set=histogram_content\n",
    "\n",
    "\n",
    "other_name=str('Phytochromobilin C15-Z,syn - C15-E,anti isomerization: concerted or stepwise?')\n",
    "worst_height,_ = get_heights([max_ART],hc,x_sub_set)\n",
    "mwp_height,_ = get_heights([mwp],hc,x_sub_set)\n",
    "\n",
    "#bmark_max_art\n",
    "worst_height = worst_height[0]\n",
    "#bmark_stats_items_grid = snap_to_grid(bmark_stats_items,bin_centers)\n",
    "\n",
    "#worst_distamnce = snap_to_grid(max_ART,bin_centers)\n",
    "worst_distance = snap_to_grid([max_ART],bin_centers)\n",
    "mwp_distance = snap_to_grid([mwp],bin_centers)\n",
    "\n",
    "\n",
    "bmark_stats_items = [ b['standard'] for b in bmark ]\n",
    "#bmark_stats_items.append(max_ART)\n",
    "categories = [\"upgoer 5\", \"Readibility Declining Over Time\",\"Science of Writing\",\"Post Modern Essay Generator\"]#\"Mean Wikipedia\"]#,other_name]# \"wikipedia science\"]\n",
    "bmark_heights, _ = get_heights(bmark_stats_items,histogram_content,x_sub_set)\n",
    "heights, bwo = get_heights(stats_items,histogram_content,x_sub_set)\n",
    "#bmark_heights.append(worst_height)\n",
    "bmark_stats_items = [i+bwo for i in bmark_stats_items]\n",
    "mean_a = mean_\n",
    "min_a = min_ \n",
    "max_a = max_ \n",
    "xticks = list(range(0,45,5))\n",
    "\n",
    "#print(xticks)\n",
    "bmark_stats_items"
   ]
  },
  {
   "cell_type": "code",
   "execution_count": 8,
   "metadata": {},
   "outputs": [],
   "source": [
    "\n",
    "bmark_stats_items_grid = snap_to_grid(bmark_stats_items,bin_centers)\n",
    "author_stats =[i for i in [mean_,min_,max_]]\n",
    "author_stats_grid = snap_to_grid(author_stats,bin_centers)\n",
    "mean_a_grid = snap_to_grid([mean_a],bin_centers)\n",
    "x_sub_set_grid = snap_to_grid(x_sub_set,bin_centers)\n"
   ]
  },
  {
   "cell_type": "code",
   "execution_count": null,
   "metadata": {},
   "outputs": [],
   "source": []
  },
  {
   "cell_type": "code",
   "execution_count": 9,
   "metadata": {},
   "outputs": [],
   "source": [
    "recalibrate_heights,b = get_heights(author_stats_grid,hc,x_sub_set)\n",
    "\n",
    "heights[0] = np.max(recalibrate_heights)\n",
    "heights[2] = recalibrate_heights[2]\n"
   ]
  },
  {
   "cell_type": "code",
   "execution_count": 10,
   "metadata": {},
   "outputs": [
    {
     "data": {
      "text/plain": [
       "[0.17899737214473446, 0.009298564786739431, 0.018597129573478904]"
      ]
     },
     "execution_count": 10,
     "metadata": {},
     "output_type": "execute_result"
    }
   ],
   "source": [
    "np.max(height_content)\n",
    "heights"
   ]
  },
  {
   "cell_type": "code",
   "execution_count": 11,
   "metadata": {},
   "outputs": [
    {
     "name": "stdout",
     "output_type": "stream",
     "text": [
      "6\n",
      "46\n",
      "6\n"
     ]
    }
   ],
   "source": [
    "bmark_heights\n",
    "print(len(bmark_heights))\n",
    "print(len(bin_centers))\n",
    "print(len(bmark_stats_items))"
   ]
  },
  {
   "cell_type": "code",
   "execution_count": 12,
   "metadata": {},
   "outputs": [
    {
     "name": "stdout",
     "output_type": "stream",
     "text": [
      "6\n"
     ]
    }
   ],
   "source": [
    "print(len(bmark_stats_items_grid))"
   ]
  },
  {
   "cell_type": "code",
   "execution_count": 23,
   "metadata": {},
   "outputs": [
    {
     "data": {
      "image/png": "[encoded data removed]",
      "text/plain": [
       "<Figure size 900x900 with 2 Axes>"
      ]
     },
     "metadata": {
      "needs_background": "light"
     },
     "output_type": "display_data"
    }
   ],
   "source": [
    "fig = plt.figure(figsize=(9, 9), dpi=100)\n",
    "ax1 = fig.add_subplot(111)#)\n",
    "g = sns.distplot(standard_sci, label=\"Readability Index\")\n",
    "\n",
    "benchmarks = pd.DataFrame({\n",
    "'benchmarks': bmark_stats_items_grid,\n",
    "    'CDF': bmark_heights\n",
    "    })\n",
    "\n",
    "\n",
    "data0 = pd.DataFrame({\n",
    "'mean, min, maximum': author_stats_grid,\n",
    "    'CDF': heights\n",
    "    })\n",
    "\n",
    "\n",
    "data2 = pd.DataFrame({\n",
    "'Standard Reading Level': mean_a_grid,\n",
    "    'CDF': np.max(height_content)\n",
    "    })\n",
    "\n",
    "\n",
    "\n",
    "\n",
    "legend_properties = {'weight':'bold','size':8}\n",
    "\n",
    "ax = sns.regplot(data=benchmarks, x=\"benchmarks\", y=\"CDF\", fit_reg=False, marker=\"o\", color=\"green\")\n",
    "\n",
    "\n",
    "ax = sns.regplot(data=data0, x=\"mean, min, maximum\", y=\"CDF\", fit_reg=False, marker=\"o\", color=\"blue\")\n",
    "#ax = sns.regplot(x='Standard Reading Level', y='CDF',data=data1, fit_reg=False, marker=\"o\", color=\"green\")#, data=fmri)\n",
    "ax = sns.regplot(data=data2, x=\"Standard Reading Level\", y=\"CDF\", fit_reg=False, marker=\"o\", color=\"red\")\n",
    "\n",
    "legendMain=ax.legend(labels=[str(\"std deviation\")], prop=legend_properties,loc='upper right')\n",
    "\n",
    "legendSide0=ax.legend(labels=[NAME],prop=legend_properties,loc='center right')\n",
    "legendSide1=ax.legend(labels=[str('Number of Documents: '+str(len(ar)))],prop=legend_properties,loc='upper left')\n",
    "\n",
    "\n",
    "legendMain=ax.legend(labels=[str(\"Google scholar author relative to ART Corpus distribution. Total docs: \")+str(len(trainingDats))], prop=legend_properties,loc='upper left')\n",
    "\n",
    "\n",
    "#for i,j,k in zip(author_stats_grid,heights,[str(NAME)+' mean',str(NAME)+' min',str(NAME)+' max']):\n",
    "'''\n",
    "xinterval = author_stats_grid\n",
    "xinterval.extend(bmark_stats_items_grid)\n",
    "#xinterval.append(other)\n",
    "#coords = copy.copy([item for item in ax.get_xticklabels()])\n",
    "xinterval.insert(4,x1)\n",
    "ax.set_xticks(xinterval)\n",
    "'''\n",
    "x1,y1,z1 = (mwp_distance[0],mwp_height[0],str('mean wikipedia'))\n",
    "\n",
    "\n",
    "new_categories = []\n",
    "\n",
    "#new_categories.extend([str(NAME)+' mean',str(NAME)+' min',str(NAME)+' max'])\n",
    "#new_categories.extend(categories)\n",
    "#new_categories.insert(4,'Mean Wikipedia Biological Science')\n",
    "x,y,z = (worst_distance[0],worst_height,other_name)\n",
    "\n",
    "data3 = pd.DataFrame({\n",
    "'Standard Reading Level': [x,x1],\n",
    "    'CDF': [y,y1]\n",
    "    })\n",
    "ax = sns.regplot(data=data3, x='Standard Reading Level', y=\"CDF\", fit_reg=False, marker=\"o\", color=\"green\")\n",
    "\n",
    "#new_categories.append(other_name)\n",
    "\n",
    "ax.set_xticklabels(new_categories, minor=False, rotation=90)\n",
    "ax.set_xticklabels(new_categories, minor=True, rotation=0)\n",
    "\n",
    "ax = sns.regplot(data=benchmarks, x=\"benchmarks\", y=\"CDF\", fit_reg=False, marker=\"o\", color=\"green\")\n",
    "\n",
    "ax2 = plt.twiny()\n",
    "\n",
    "#plt.axvline(rick, 0.01,0.8)\n",
    "plt.axvline(scrook, 0.1,0.8)\n",
    "plt.axvline(grayden, 0.1,0.8)\n",
    "\n",
    "from scipy.stats import norm\n",
    "xx = np.linspace(0,40,100)\n",
    "yy = norm.pdf(xx, loc=rick, scale=ricks)\n",
    "plt.plot(xx,yy)\n",
    "\n",
    "xxx = np.linspace(0,40,100)\n",
    "yyy = norm.pdf(xx, loc=scrook, scale=scrooks)\n",
    "plt.plot(xxx,yyy)\n",
    "\n",
    "xxxx = np.linspace(0,40,100)\n",
    "yyyy = norm.pdf(xx, loc=grayden, scale=graydens)\n",
    "plt.plot(xxxx,yyyy)\n",
    "\n",
    "#ax = sns.regplot(data=yyyy, x=\"benchmarks\", y=\"CDF\", fit_reg=False, marker=\"o\", color=\"green\")\n",
    "\n",
    "\n",
    "#ax = sns.regplot(data=data5, x=\"winner\", y=\"std\", fit_reg=False, marker=\"o\", color=\"green\")\n",
    "\n",
    "\n",
    "#pdf = stats.norm.pdf(data, rick, ricks)\n",
    "\n",
    "xticks = list(range(0,45,5))\n",
    "\n",
    "plt.xticks(xticks)\n",
    "#ax2.xaxis.set_minor_locator(AutoMinorLocator(4))\n",
    "plt.tick_params(axis=\"y\", labelcolor=\"r\", pad=8)\n",
    "\n",
    "\n",
    "#data_m = [{\"R. Gerkin\":rick},{\"S. Crook\":scrook},{\"D. Grayden\":grayden}]#,{\"S. Baer\":smbaer}]\n",
    "#data_s = [{\"R. Gerkin\":ricks},{\"S. Crook\":scrooks},{\"D. Grayden\":graydens}]#,{\"S. Baer\":smbaer}]\n",
    "\n",
    "\n",
    "\n",
    "#ax.text(x-0.25,y+0.005,z, rotation=90)  \n",
    "\n",
    "#ax.text(x1,y1,z1, rotation=90)  \n",
    "\n",
    "    \n",
    "plt.savefig(str(NAME)+'_author_readability.png')\n",
    "plt.show()\n",
    "\n"
   ]
  },
  {
   "cell_type": "code",
   "execution_count": null,
   "metadata": {},
   "outputs": [],
   "source": [
    "\n",
    "plt.savefig(str(NAME)+'_author_readability.png')\n",
    "\n",
    "new_categories\n",
    "x,y,z = (worst_distance[0],worst_height,other_name)\n",
    "x\n",
    "y\n",
    "z"
   ]
  },
  {
   "cell_type": "code",
   "execution_count": null,
   "metadata": {},
   "outputs": [],
   "source": [
    "x,y,z = (mwp_distance[0],mwp_height[0],str('mean wikipedia'))\n"
   ]
  },
  {
   "cell_type": "code",
   "execution_count": null,
   "metadata": {},
   "outputs": [],
   "source": [
    "xticks\n",
    "xinterval"
   ]
  },
  {
   "cell_type": "code",
   "execution_count": null,
   "metadata": {},
   "outputs": [],
   "source": [
    "data2\n",
    "grayden\n",
    "\n",
    "scrook\n",
    "rick\n",
    "grayden"
   ]
  },
  {
   "cell_type": "code",
   "execution_count": null,
   "metadata": {},
   "outputs": [],
   "source": [
    "data0"
   ]
  },
  {
   "cell_type": "code",
   "execution_count": null,
   "metadata": {},
   "outputs": [],
   "source": [
    "bmark_stats_items"
   ]
  },
  {
   "cell_type": "code",
   "execution_count": null,
   "metadata": {},
   "outputs": [],
   "source": [
    "#bmark"
   ]
  },
  {
   "cell_type": "code",
   "execution_count": null,
   "metadata": {},
   "outputs": [],
   "source": [
    "trainingDats[-1]"
   ]
  },
  {
   "cell_type": "code",
   "execution_count": null,
   "metadata": {},
   "outputs": [],
   "source": []
  },
  {
   "cell_type": "code",
   "execution_count": null,
   "metadata": {},
   "outputs": [],
   "source": []
  }
 ],
 "metadata": {
  "kernelspec": {
   "display_name": "Python 3",
   "language": "python",
   "name": "python3"
  },
  "language_info": {
   "codemirror_mode": {
    "name": "ipython",
    "version": 3
   },
   "file_extension": ".py",
   "mimetype": "text/x-python",
   "name": "python",
   "nbconvert_exporter": "python",
   "pygments_lexer": "ipython3",
   "version": "3.7.3"
  }
 },
 "nbformat": 4,
 "nbformat_minor": 2
}
